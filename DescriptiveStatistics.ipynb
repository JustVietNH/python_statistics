{
 "cells": [
  {
   "attachments": {},
   "cell_type": "markdown",
   "metadata": {},
   "source": [
    "# Lesson 1: Dot Plots and Histograms \n",
    "\n",
    "## Dot Plots \n",
    "The following data points represent how many goals Hank scored each lacrosse season.\n",
    "\n",
    "45,43,45,44,44,44,47\n",
    "\n",
    "Using this data, create a dot plot where each dot represents a season."
   ]
  },
  {
   "cell_type": "code",
   "execution_count": 11,
   "metadata": {},
   "outputs": [
    {
     "data": {
      "image/png": "[encoded data removed]",
      "text/plain": [
       "<Figure size 432x288 with 1 Axes>"
      ]
     },
     "metadata": {
      "needs_background": "light"
     },
     "output_type": "display_data"
    }
   ],
   "source": [
    "import numpy as np \n",
    "import matplotlib.pyplot as plt \n",
    "from matplotlib.lines import Line2D \n",
    "def dotPlot(input_x, **args):\n",
    "    uniq, counts = np.unique(input_x, return_counts=True)\n",
    "\n",
    "    scatter_x = []\n",
    "    scatter_y = []\n",
    "    for idx, value in enumerate(uniq):\n",
    "        for counter in range(1, counts[idx]+1):\n",
    "            scatter_x.append(value)\n",
    "            scatter_y.append(counter)\n",
    "\n",
    "    plt.scatter(scatter_x, scatter_y, **args)\n",
    "\n",
    "    plt.gca().set_xticks(uniq)\n",
    "\n",
    "goalsOfSeason = np.array([45,43,45,44,44,44,47])\n",
    "dotPlot(goalsOfSeason)\n",
    "axes = plt.gca() \n",
    "axes.set_frame_on(False)\n",
    "axes.axes.get_yaxis().set_visible(False)\n",
    "xmin, xmax = axes.get_xlim()\n",
    "ymin, ymax = axes.get_ylim()\n",
    "xaxis_line = Line2D(\n",
    "    (xmin, xmax), (ymin, ymin), linewidth=3, color='black'\n",
    ")\n",
    "axes.add_artist(xaxis_line)\n",
    "score_range = range(goalsOfSeason.min(), goalsOfSeason.max()+1)\n",
    "axes.set_xticks(score_range)\n",
    "\n",
    "plt.xlabel(\"Goals of the season\", labelpad=20)\n",
    "plt.tight_layout()\n",
    "plt.show()\n",
    "\n",
    "#After this task you were supposed to read dot plots and frequency tables - not too hard"
   ]
  },
  {
   "attachments": {},
   "cell_type": "markdown",
   "metadata": {},
   "source": [
    "# 2. Creating Histograms\n",
    "The following data points represent how many houses Gregg the Garbage Man visited each day last week:\n",
    "\n",
    "12, 28, 33, 37, 23, 14, 9\n"
   ]
  },
  {
   "cell_type": "code",
   "execution_count": 28,
   "metadata": {},
   "outputs": [
    {
     "data": {
      "image/png": "[encoded data removed]",
      "text/plain": [
       "<Figure size 432x288 with 1 Axes>"
      ]
     },
     "metadata": {
      "needs_background": "light"
     },
     "output_type": "display_data"
    }
   ],
   "source": [
    "data = (12, 28, 33, 37, 23, 14, 9)\n",
    "uniq, counts = np.unique(data, return_counts=True)\n",
    "\n",
    "n, bins, patches = plt.hist(x=data, bins=[0,10,20,30,40], rwidth= 0.85)\n",
    "plt.grid(axis=\"y\")\n",
    "plt.xlabel(\"Number of Houses visited\")\n",
    "plt.ylabel(\"Number of days\")\n",
    "plt.xlim([0, 40])\n",
    "plt.xticks([0,10,20, 30,40])\n",
    "plt.yticks([0,1,2,3,4])\n",
    "plt.show()"
   ]
  }
 ],
 "metadata": {
  "kernelspec": {
   "display_name": "py37",
   "language": "python",
   "name": "python3"
  },
  "language_info": {
   "codemirror_mode": {
    "name": "ipython",
    "version": 3
   },
   "file_extension": ".py",
   "mimetype": "text/x-python",
   "name": "python",
   "nbconvert_exporter": "python",
   "pygments_lexer": "ipython3",
   "version": "3.7.11"
  },
  "orig_nbformat": 4
 },
 "nbformat": 4,
 "nbformat_minor": 2
}
